{
 "cells": [
  {
   "cell_type": "code",
   "execution_count": 1,
   "metadata": {},
   "outputs": [],
   "source": [
    "import networkx as nx\n",
    "import numpy as np\n",
    "\n",
    "import os\n",
    "from Instance_generator import graph_generator, clustering, tree_gen"
   ]
  },
  {
   "cell_type": "markdown",
   "metadata": {},
   "source": [
    "Header example\n",
    "\n",
    "NAME : C :/Sirius/job/Library/LIB/Category - Exact algorithms/Precedence constraints/e1x_1.pcglns\n",
    "TYPE : PCGLNS\n",
    "COMMENT : no commen\n",
    "DIMENSION : 418\n",
    "GTSP_SETS : 22\n",
    "EDGE_WEIGHT_TYPE : EXPLICIT\n",
    "EDGE_WEIGHT_FORMAT : FULL_MATRIX"
   ]
  },
  {
   "cell_type": "code",
   "execution_count": 44,
   "metadata": {},
   "outputs": [],
   "source": [
    "def make_header(problem_name, n, m):\n",
    "    header = f'NAME : {problem_name}\\nTYPE : PCGLNS\\nCOMMENT : no comments\\nDIMENSION : {n}\\nGTSP_SETS : {m}\\nEDGE_WEIGHT_TYPE : EXPLICIT\\nEDGE_WEIGHTS_FORMAT : FULL_MATRIX\\n'\n",
    "    return header\n",
    "\n",
    "def make_edge_weights(G):\n",
    "    lines=['EDGE_WEIGHT_SECTION']\n",
    "    n = len(G.nodes)\n",
    "    \n",
    "    for v in range(n):\n",
    "        line = ' '.join([f'{G[v+1][u+1][\"weight\"]}' if u != v else '0' for u in range(n)])\n",
    "        lines.append(line)\n",
    "    return lines\n",
    "\n",
    "def make_gtsp_sets(clusters):\n",
    "    lines=['GTSP_SET_SECTION']\n",
    "    m =len(clusters)\n",
    "    \n",
    "    for c_idx in range(1,m+1):\n",
    "        line = f'{c_idx} ' + ' '.join([f'{v}' for v in clusters[c_idx]]) + ' -1'\n",
    "        lines.append(line)\n",
    "        \n",
    "    return lines\n",
    "\n",
    "def make_gtsp_sets_ordering(tree, m):\n",
    "    lines=['GTSP_SET_ORDERING\\n']\n",
    "    for c in range(2,m+1):\n",
    "        if c in tree:\n",
    "            desc = nx.descendants(tree,c)\n",
    "            if desc:\n",
    "                line = f'{c} ' + ' '.join([f'{d}' for d in desc]) + ' -1\\n'\n",
    "                lines.append(line)\n",
    "    return lines\n",
    "            \n",
    "def make_footer(first_cluster):\n",
    "    line = f'START_GROUP_SECTION\\n{first_cluster}\\nEND'\n",
    "    \n",
    "    \n",
    "def main(fname, n, m):\n",
    "    G = graph_generator(n)\n",
    "    clusters = clustering(n,m)\n",
    "    tree = tree_gen(m)\n",
    "    \n",
    "    with open(fname, 'r') as fout:\n",
    "        header = make_header(fname, n, m)\n",
    "        fout.write(header)\n",
    "        \n",
    "        weights_section = make_edge_weights(G)\n",
    "        fout.write('\\n'.join([ln in weights_section]) + '\\n')\n",
    "        \n",
    "        gtsp_section = make_gtsp_sets(clusters)\n",
    "        fout.write('\\n'.join([ln in gtsp_section]) + '\\n')\n",
    "        \n",
    "        order_section = make_gtsp_sets_ordering(tree, m)\n",
    "        fout.write('\\n'.join([ln in order_section]) + '\\n')\n",
    "        \n",
    "        footer = make_footer(1)\n",
    "        fout.write(footer)"
   ]
  },
  {
   "cell_type": "code",
   "execution_count": 3,
   "metadata": {},
   "outputs": [
    {
     "name": "stdout",
     "output_type": "stream",
     "text": [
      "NAME : First proba\n",
      "TYPE : PCGLNS\n",
      "COMMENT : no comments\n",
      "DIMENSION : 100\n",
      "GTSP_SETS : 10\n",
      "EDGE_WEIGHT_TYPE : EXPLICIT\n",
      "EDGE_WEIGHTS_FORMAT : FULL_MATRIX\n"
     ]
    }
   ],
   "source": [
    "print(make_header('First proba', 100,10))"
   ]
  },
  {
   "cell_type": "code",
   "execution_count": 31,
   "metadata": {},
   "outputs": [
    {
     "name": "stdout",
     "output_type": "stream",
     "text": [
      "True\n",
      "['EDGE_WEIGHT_SECTION\\n', '0 1 2 3 4\\n', '5 0 7 8 9\\n', '10 11 0 13 14\\n', '15 16 17 0 19\\n', '20 21 22 23 0\\n']\n"
     ]
    }
   ],
   "source": [
    "mat = np.array(range(25)).reshape(5,5)\n",
    "G = nx.DiGraph()\n",
    "n = 5\n",
    "edges = [(i+1, j+1, mat[i, j]) for i in range(n) for j in range(n) if i != j]\n",
    "G.add_weighted_edges_from(edges)\n",
    "\n",
    "lines = make_edge_weights(G)\n",
    "print(lines)"
   ]
  },
  {
   "cell_type": "code",
   "execution_count": 42,
   "metadata": {},
   "outputs": [
    {
     "data": {
      "text/plain": [
       "['GTSP_SET_SECTION',\n",
       " '1 1 2 3 -1',\n",
       " '2 4 5 -1',\n",
       " '3 6 7 8 9 -1',\n",
       " '4 10 11 -1',\n",
       " '5 12 -1']"
      ]
     },
     "execution_count": 42,
     "metadata": {},
     "output_type": "execute_result"
    }
   ],
   "source": [
    "clusters = {1: [1,2,3], 2: [4,5], 3: [6,7,8,9], 4: [10,11], 5: [12]}\n",
    "m = 5\n",
    "make_gtsp_sets(clusters)"
   ]
  },
  {
   "cell_type": "code",
   "execution_count": 39,
   "metadata": {},
   "outputs": [
    {
     "name": "stdout",
     "output_type": "stream",
     "text": [
      "['GTSP_SET_ORDERING\\n', '2 3 4 5 -1\\n', '3 5 -1\\n']\n"
     ]
    }
   ],
   "source": [
    "tree = nx.DiGraph()\n",
    "m = 5\n",
    "tree.add_edges_from([[1,2],[1,3],[2,3],[2,4],[3,5]])\n",
    "lines = make_gtsp_sets_ordering(tree, m)\n",
    "print(lines)"
   ]
  },
  {
   "cell_type": "code",
   "execution_count": 43,
   "metadata": {},
   "outputs": [],
   "source": []
  },
  {
   "cell_type": "code",
   "execution_count": null,
   "metadata": {},
   "outputs": [],
   "source": []
  }
 ],
 "metadata": {
  "kernelspec": {
   "display_name": "Python 3",
   "language": "python",
   "name": "python3"
  },
  "language_info": {
   "codemirror_mode": {
    "name": "ipython",
    "version": 3
   },
   "file_extension": ".py",
   "mimetype": "text/x-python",
   "name": "python",
   "nbconvert_exporter": "python",
   "pygments_lexer": "ipython3",
   "version": "3.7.5"
  }
 },
 "nbformat": 4,
 "nbformat_minor": 2
}
