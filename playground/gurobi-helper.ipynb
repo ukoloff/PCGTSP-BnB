{
 "cells": [
  {
   "cell_type": "code",
   "execution_count": 1,
   "id": "plain-lewis",
   "metadata": {},
   "outputs": [
    {
     "name": "stdout",
     "output_type": "stream",
     "text": [
      "Loading: e5x_1\n"
     ]
    }
   ],
   "source": [
    "import numpy as np\n",
    "import networkx as nx\n",
    "import gurobipy as gp\n",
    "from gurobipy import GRB\n",
    "from itertools import permutations \n",
    "from generator import next_graph\n",
    "import timeit"
   ]
  },
  {
   "cell_type": "code",
   "execution_count": 2,
   "id": "sapphire-manor",
   "metadata": {},
   "outputs": [],
   "source": [
    "def create_model(model_name, G, tree, first_node_idx = 0):\n",
    "    with gp.Env(empty = True) as env:\n",
    "        env.setParam('LogToConsole', 0)\n",
    "        env.start()\n",
    "        \n",
    "        model=gp.Model(model_name, env=env)\n",
    "        \n",
    "        n = len(G)\n",
    "        n_list = list(G)\n",
    "        n_dict = {n_list[idx]: idx for idx in range(n)}\n",
    "        first_node = n_list[first_node_idx]\n",
    "\n",
    "        tree_closure = nx.transitive_closure_dag(tree)\n",
    "        A = nx.to_numpy_matrix(G, nodelist=list(G))\n",
    "\n",
    "        x_ij, cost = gp.multidict(dict(np.ndenumerate(A)))\n",
    "        y_ij, dummy_cost = gp.multidict(dict(np.ndenumerate(np.zeros((n,n)))))\n",
    "\n",
    "        ### VARIABLES\n",
    "        x = model.addVars(x_ij, vtype=GRB.BINARY, name='x')\n",
    "        y = model.addVars(y_ij, name='y')\n",
    "\n",
    "        ### OBJECTIVE\n",
    "        objective = model.setObjective(x.prod(cost), GRB.MINIMIZE)\n",
    "\n",
    "        ### CONSTRAINTS\n",
    "        ### FLOW CONSERVATION\n",
    "        for v_i in range(n):\n",
    "            model.addConstr(sum(x[v_i,v_j] for v_j in range(n) \n",
    "                                                if (n_list[v_i],n_list[v_j]) in G.edges) == 1, f'fc_outer_{n_list[v_i]}')\n",
    "\n",
    "            model.addConstr(sum(x[v_j,v_i] for v_j in range(n) \n",
    "                                                if (n_list[v_j],n_list[v_i]) in G.edges) == 1, f'fc_inner_{n_list[v_i]}')\n",
    "  \n",
    "    \n",
    "\n",
    "        ### SUB-TOUR ELIMINATION\n",
    "        for e in G.edges:\n",
    "            i = n_dict[e[0]]\n",
    "            j = n_dict[e[1]]\n",
    "\n",
    "            if not first_node_idx in (i,j):               \n",
    "                model.addConstr(y[i,j] - x[i,j] >= 0, f'ste1_{n_list[i]}_{n_list[j]}')\n",
    "                model.addConstr(y[i,j] + y[j,i] == 1, f'ste2_{n_list[i]}_{n_list[j]}')\n",
    "\n",
    "        for i,j,k in [p for p in permutations(range(1,n),3) if sorted(list(p)) == list(p)]:\n",
    "            model.addConstr(y[i,j] + y[j,k] + y[k,i] <= 2, f'ste3_{n_list[i]}_{n_list[j]}_{n_list[k]}')\n",
    "\n",
    "        ### PRECEDENCE CONSTRAINTS\n",
    "\n",
    "        for e in tree_closure.edges:\n",
    "            i = n_dict[e[0]]\n",
    "            j = n_dict[e[1]]\n",
    "            \n",
    "            model.addConstr(y[i,j] == 1, f'pc_{n_list[i]}_{n_list[j]}')\n",
    "\n",
    "        return model, x\n",
    "\n",
    "\n",
    "def optimizeModel(model):\n",
    "    model.setParam(GRB.Param.TimeLimit,1)\n",
    "    model.optimize()\n",
    "    \n",
    "    return model.status, model.objboundc\n",
    "    \n",
    "    \n"
   ]
  },
  {
   "cell_type": "code",
   "execution_count": 3,
   "id": "attached-joining",
   "metadata": {},
   "outputs": [
    {
     "data": {
      "text/plain": [
       "{'1': 0, '2': 1, '3': 2, '4': 3}"
      ]
     },
     "execution_count": 3,
     "metadata": {},
     "output_type": "execute_result"
    }
   ],
   "source": [
    "G=nx.DiGraph()\n",
    "edge_list = [('1','2',10),('1','3',15),('2','3',5), ('3','4',10), ('4','2', 25), ('4','1', 35)]\n",
    "G.add_weighted_edges_from(edge_list)\n",
    "A=nx.to_numpy_matrix(G, nodelist=list(G))\n",
    "len(G)\n",
    "tree = nx.DiGraph()\n",
    "tree.add_edges_from([('1','2'),('1','3')])\n",
    "nd_list = list(G)\n",
    "{nd_list[idx]: idx for idx in range(len(nd_list))}"
   ]
  },
  {
   "cell_type": "code",
   "execution_count": 4,
   "id": "subtle-lying",
   "metadata": {},
   "outputs": [],
   "source": [
    "G2 = nx.DiGraph()\n",
    "edge_list2 = [(1,2,1), (2,3,0), (3,1,1), (2,4,1), (4,5,1), (5,6,1), (6,4,0), (6,3,1)]\n",
    "G2.add_weighted_edges_from(edge_list2)\n",
    "A2=nx.to_numpy_matrix(G2, nodelist=list(G2))\n",
    "tree2=nx.DiGraph()\n",
    "tree2.add_edges_from([(1,2), (2,4), (2,3)])"
   ]
  },
  {
   "cell_type": "code",
   "execution_count": 5,
   "id": "danish-particular",
   "metadata": {},
   "outputs": [],
   "source": [
    "def to_measure():\n",
    "    G3, tree3, sigma = next_graph()\n",
    "    print(f'sigma={sigma}')\n",
    "\n",
    "    model, x = create_model('Toy2', G3, tree3)\n",
    "    model.write('model-toy2.lp')\n",
    "    res = optimizeModel(model)\n",
    "    print(f'Result: {res}')"
   ]
  },
  {
   "cell_type": "code",
   "execution_count": 6,
   "id": "isolated-mechanics",
   "metadata": {},
   "outputs": [
    {
     "name": "stdout",
     "output_type": "stream",
     "text": [
      "Size:\t 315 / 23\n",
      "UB:\t 1890.0\n",
      "\n",
      "sigma=(1,)\n",
      "Changed value of parameter LogToConsole to 0\n",
      "   Prev: 1  Min: 0  Max: 1  Default: 1\n",
      "Result: (2, 942.0)\n",
      "sigma=(1, 9)\n",
      "Changed value of parameter LogToConsole to 0\n",
      "   Prev: 1  Min: 0  Max: 1  Default: 1\n",
      "Result: (2, 927.0)\n",
      "sigma=(1, 11)\n",
      "Changed value of parameter LogToConsole to 0\n",
      "   Prev: 1  Min: 0  Max: 1  Default: 1\n",
      "Result: (2, 857.0)\n",
      "sigma=(1, 13)\n",
      "Changed value of parameter LogToConsole to 0\n",
      "   Prev: 1  Min: 0  Max: 1  Default: 1\n",
      "Result: (2, 901.0)\n",
      "sigma=(1, 15)\n",
      "Changed value of parameter LogToConsole to 0\n",
      "   Prev: 1  Min: 0  Max: 1  Default: 1\n",
      "Result: (2, 739.0)\n",
      "sigma=(1, 17)\n",
      "Changed value of parameter LogToConsole to 0\n",
      "   Prev: 1  Min: 0  Max: 1  Default: 1\n",
      "Result: (2, 904.0)\n",
      "sigma=(1, 19)\n",
      "Changed value of parameter LogToConsole to 0\n",
      "   Prev: 1  Min: 0  Max: 1  Default: 1\n",
      "Result: (2, 827.0)\n",
      "sigma=(1, 21)\n",
      "Changed value of parameter LogToConsole to 0\n",
      "   Prev: 1  Min: 0  Max: 1  Default: 1\n",
      "Result: (2, 931.0)\n",
      "71.6 ms ± 1.42 ms per loop (mean ± std. dev. of 7 runs, 1 loop each)\n"
     ]
    }
   ],
   "source": [
    "%timeit to_measure()"
   ]
  },
  {
   "cell_type": "code",
   "execution_count": null,
   "id": "subject-toolbox",
   "metadata": {},
   "outputs": [],
   "source": []
  }
 ],
 "metadata": {
  "kernelspec": {
   "display_name": "Python 3",
   "language": "python",
   "name": "python3"
  },
  "language_info": {
   "codemirror_mode": {
    "name": "ipython",
    "version": 3
   },
   "file_extension": ".py",
   "mimetype": "text/x-python",
   "name": "python",
   "nbconvert_exporter": "python",
   "pygments_lexer": "ipython3",
   "version": "3.7.10"
  }
 },
 "nbformat": 4,
 "nbformat_minor": 5
}
