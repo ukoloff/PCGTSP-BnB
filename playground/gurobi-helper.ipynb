{
 "cells": [
  {
   "cell_type": "code",
   "execution_count": 31,
   "metadata": {},
   "outputs": [],
   "source": [
    "import numpy as np\n",
    "import networkx as nx\n",
    "import gurobipy as gp\n",
    "from gurobipy import GRB\n",
    "from itertools import permutations\n",
    "from generator import next_graph"
   ]
  },
  {
   "cell_type": "code",
   "execution_count": 46,
   "metadata": {},
   "outputs": [],
   "source": [
    "def create_model(model_name, G, tree, first_node_idx = 0):\n",
    "    with gp.Env(empty = True) as env:\n",
    "        env.setParam('LogToConsole', 0)\n",
    "        env.start()\n",
    "        \n",
    "        model=gp.Model(model_name, env=env)\n",
    "        \n",
    "        n = len(G)\n",
    "        n_list = list(G)\n",
    "        n_dict = {n_list[idx]: idx for idx in range(n)}\n",
    "        first_node = n_list[first_node_idx]\n",
    "\n",
    "        tree_closure = nx.transitive_closure_dag(tree)\n",
    "        A = nx.to_numpy_matrix(G, nodelist=list(G))\n",
    "\n",
    "        x_ij, cost = gp.multidict(dict(np.ndenumerate(A)))\n",
    "        y_ij, dummy_cost = gp.multidict(dict(np.ndenumerate(np.zeros((n,n)))))\n",
    "\n",
    "        ### VARIABLES\n",
    "        x = model.addVars(x_ij, vtype=GRB.BINARY, name='x')\n",
    "        y = model.addVars(y_ij, name='y')\n",
    "\n",
    "        ### OBJECTIVE\n",
    "        objective = model.setObjective(x.prod(cost), GRB.MINIMIZE)\n",
    "\n",
    "        ### CONSTRAINTS\n",
    "        ### FLOW CONSERVATION\n",
    "        for v_i in range(n):\n",
    "            model.addConstr(sum(x[v_i,v_j] for v_j in range(n) \n",
    "                                                if (n_list[v_i],n_list[v_j]) in G.edges) == 1, f'fc_outer_{n_list[v_i]}')\n",
    "\n",
    "            model.addConstr(sum(x[v_j,v_i] for v_j in range(n) \n",
    "                                                if (n_list[v_j],n_list[v_i]) in G.edges) == 1, f'fc_inner_{n_list[v_i]}')\n",
    "  \n",
    "    \n",
    "\n",
    "        ### SUB-TOUR ELIMINATION\n",
    "        for e in G.edges:\n",
    "            i = n_dict[e[0]]\n",
    "            j = n_dict[e[1]]\n",
    "\n",
    "            if not first_node_idx in (i,j):               \n",
    "                model.addConstr(y[i,j] - x[i,j] >= 0, f'ste1_{n_list[i]}{n_list[j]}')\n",
    "                model.addConstr(y[i,j] + x[j,i] == 1, f'ste2_{n_list[i]}{n_list[j]}')\n",
    "\n",
    "        for e1, e2, e3 in [p for p in permutations([e for e in G.edges \n",
    "                                                    if not first_node in e],3) \n",
    "                           if sorted(p) == p and p[0][1] == p[1][0] and p[1][1] == p[2][0] and p[2][1] == p[0][0]]:\n",
    "            i = n_dict[e1[0]]\n",
    "            j = n_dict[e2[0]]\n",
    "            k = n_dict[e3[0]]\n",
    "            model.addConstr(y[i,j] + y[j,k] + y[k,i] <= 2, f'ste3_{n_list[i]}{n_list[j]}{n_list[k]}')\n",
    "\n",
    "        ### PRECEDENCE CONSTRAINTS\n",
    "\n",
    "        for e in tree_closure.edges:\n",
    "            i = n_dict[e[0]]\n",
    "            j = n_dict[e[1]]\n",
    "            \n",
    "            model.addConstr(y[i,j] == 1, f'pc_{n_list[i]}{n_list[j]}')\n",
    "\n",
    "        return model, x\n",
    "\n",
    "\n",
    "def optimizeModel(model):\n",
    "    model.setParam(GRB.Param.TimeLimit,1)\n",
    "    model.optimize()\n",
    "    \n",
    "    return model.status, model.objboundc\n",
    "    \n",
    "    \n"
   ]
  },
  {
   "cell_type": "code",
   "execution_count": 44,
   "metadata": {},
   "outputs": [
    {
     "data": {
      "text/plain": [
       "{'1': 0, '2': 1, '3': 2, '4': 3}"
      ]
     },
     "execution_count": 44,
     "metadata": {},
     "output_type": "execute_result"
    }
   ],
   "source": [
    "G=nx.DiGraph()\n",
    "edge_list=[('1','2',10),('1','3',15),('2','3',5), ('3','4',10), ('4','2', 25), ('4','1', 35)]\n",
    "G.add_weighted_edges_from(edge_list)\n",
    "A=nx.to_numpy_matrix(G, nodelist=list(G))\n",
    "len(G)\n",
    "tree = nx.DiGraph()\n",
    "tree.add_edges_from([('1','2'),('1','3')])\n",
    "nd_list = list(G)\n",
    "{nd_list[idx]: idx for idx in range(len(nd_list))}"
   ]
  },
  {
   "cell_type": "code",
   "execution_count": 47,
   "metadata": {},
   "outputs": [
    {
     "name": "stdout",
     "output_type": "stream",
     "text": [
      "Changed value of parameter LogToConsole to 0\n",
      "   Prev: 1  Min: 0  Max: 1  Default: 1\n",
      "Result: (2, 836.0)\n",
      "Changed value of parameter LogToConsole to 0\n",
      "   Prev: 1  Min: 0  Max: 1  Default: 1\n",
      "Result: (2, 825.0)\n",
      "Changed value of parameter LogToConsole to 0\n",
      "   Prev: 1  Min: 0  Max: 1  Default: 1\n",
      "Result: (2, 790.0)\n",
      "Changed value of parameter LogToConsole to 0\n",
      "   Prev: 1  Min: 0  Max: 1  Default: 1\n",
      "Result: (2, 724.0)\n",
      "Changed value of parameter LogToConsole to 0\n",
      "   Prev: 1  Min: 0  Max: 1  Default: 1\n",
      "Result: (2, 779.0)\n",
      "Changed value of parameter LogToConsole to 0\n",
      "   Prev: 1  Min: 0  Max: 1  Default: 1\n",
      "Result: (2, 688.0)\n",
      "Changed value of parameter LogToConsole to 0\n",
      "   Prev: 1  Min: 0  Max: 1  Default: 1\n",
      "Result: (2, 791.0)\n",
      "Changed value of parameter LogToConsole to 0\n",
      "   Prev: 1  Min: 0  Max: 1  Default: 1\n",
      "Result: (2, 694.0)\n",
      "Changed value of parameter LogToConsole to 0\n",
      "   Prev: 1  Min: 0  Max: 1  Default: 1\n",
      "Result: (2, 794.0)\n",
      "Changed value of parameter LogToConsole to 0\n",
      "   Prev: 1  Min: 0  Max: 1  Default: 1\n",
      "Result: (2, 783.0)\n"
     ]
    },
    {
     "data": {
      "text/plain": [
       "7.548105078099979"
      ]
     },
     "execution_count": 47,
     "metadata": {},
     "output_type": "execute_result"
    }
   ],
   "source": [
    "import timeit\n",
    "def to_measureTime():\n",
    "    G, tree, sigma = next_graph()\n",
    "\n",
    "    model, x = create_model('proba', G, tree)\n",
    "    model.write('model.lp')\n",
    "    res = optimizeModel(model)\n",
    "    print(f'Result: {res}')\n",
    "\n",
    "timeit.timeit(to_measureTime, number = 10) / 10"
   ]
  },
  {
   "cell_type": "code",
   "execution_count": null,
   "metadata": {},
   "outputs": [],
   "source": []
  }
 ],
 "metadata": {
  "kernelspec": {
   "display_name": "Python 3",
   "language": "python",
   "name": "python3"
  },
  "language_info": {
   "codemirror_mode": {
    "name": "ipython",
    "version": 3
   },
   "file_extension": ".py",
   "mimetype": "text/x-python",
   "name": "python",
   "nbconvert_exporter": "python",
   "pygments_lexer": "ipython3",
   "version": "3.7.5"
  }
 },
 "nbformat": 4,
 "nbformat_minor": 5
}
